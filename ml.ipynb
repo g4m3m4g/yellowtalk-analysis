{
 "cells": [
  {
   "cell_type": "code",
   "execution_count": 2,
   "id": "a7612466-a6ba-4a17-a97d-51b12ea81719",
   "metadata": {},
   "outputs": [],
   "source": [
    "import pandas as pd\n",
    "import numpy as np\n",
    "from pythainlp.tokenize import word_tokenize\n",
    "import requests"
   ]
  },
  {
   "cell_type": "code",
   "execution_count": 3,
   "id": "64d471be-a215-4047-b58d-abddcf222c60",
   "metadata": {},
   "outputs": [
    {
     "data": {
      "text/html": [
       "<div>\n",
       "<style scoped>\n",
       "    .dataframe tbody tr th:only-of-type {\n",
       "        vertical-align: middle;\n",
       "    }\n",
       "\n",
       "    .dataframe tbody tr th {\n",
       "        vertical-align: top;\n",
       "    }\n",
       "\n",
       "    .dataframe thead th {\n",
       "        text-align: right;\n",
       "    }\n",
       "</style>\n",
       "<table border=\"1\" class=\"dataframe\">\n",
       "  <thead>\n",
       "    <tr style=\"text-align: right;\">\n",
       "      <th></th>\n",
       "      <th>url</th>\n",
       "      <th>data</th>\n",
       "      <th>comment</th>\n",
       "      <th>likes</th>\n",
       "    </tr>\n",
       "  </thead>\n",
       "  <tbody>\n",
       "    <tr>\n",
       "      <th>0</th>\n",
       "      <td>https://yellotalk.co/yell/67610885</td>\n",
       "      <td>ที่บอกกระแทกแรก ไม่เห็นจะแรงจริงเลย</td>\n",
       "      <td>1</td>\n",
       "      <td>0</td>\n",
       "    </tr>\n",
       "    <tr>\n",
       "      <th>1</th>\n",
       "      <td>https://yellotalk.co/yell/67610886</td>\n",
       "      <td>ช่วยตอบแบบสอบถามหน่อยค่ะ https://forms.gle/Rxj...</td>\n",
       "      <td>0</td>\n",
       "      <td>0</td>\n",
       "    </tr>\n",
       "    <tr>\n",
       "      <th>2</th>\n",
       "      <td>https://yellotalk.co/yell/67610887</td>\n",
       "      <td>ทุกวันนี้ไม่อยากมีแฟน กลัวทำหน้าที่ไม่ดีพอ</td>\n",
       "      <td>2</td>\n",
       "      <td>0</td>\n",
       "    </tr>\n",
       "    <tr>\n",
       "      <th>3</th>\n",
       "      <td>https://yellotalk.co/yell/67610889</td>\n",
       "      <td>ใครก็ได้มาหักอกหน่อย</td>\n",
       "      <td>4</td>\n",
       "      <td>0</td>\n",
       "    </tr>\n",
       "    <tr>\n",
       "      <th>4</th>\n",
       "      <td>https://yellotalk.co/yell/67610891</td>\n",
       "      <td>ช่วยตอบแบบสอบถามหน่อยค่ะ https://forms.gle/Rxj...</td>\n",
       "      <td>1</td>\n",
       "      <td>0</td>\n",
       "    </tr>\n",
       "    <tr>\n",
       "      <th>...</th>\n",
       "      <td>...</td>\n",
       "      <td>...</td>\n",
       "      <td>...</td>\n",
       "      <td>...</td>\n",
       "    </tr>\n",
       "    <tr>\n",
       "      <th>162167</th>\n",
       "      <td>https://yellotalk.co/yell/68101436</td>\n",
       "      <td>มีแฟนอยู่ไกล แต่เราติดสกินชิพกับเพื่อนผู้ชายมา...</td>\n",
       "      <td>1</td>\n",
       "      <td>-1</td>\n",
       "    </tr>\n",
       "    <tr>\n",
       "      <th>162168</th>\n",
       "      <td>https://yellotalk.co/yell/68101437</td>\n",
       "      <td>ลงภาพในเฟสแต่ละทีเหมือนพ่อกับแม่กลัวไม่ได้อวดล...</td>\n",
       "      <td>1</td>\n",
       "      <td>0</td>\n",
       "    </tr>\n",
       "    <tr>\n",
       "      <th>162169</th>\n",
       "      <td>https://yellotalk.co/yell/68101438</td>\n",
       "      <td>ไม่มีความชัดเจน มีแต่คลุมเคลือ</td>\n",
       "      <td>6</td>\n",
       "      <td>0</td>\n",
       "    </tr>\n",
       "    <tr>\n",
       "      <th>162170</th>\n",
       "      <td>https://yellotalk.co/yell/68101439</td>\n",
       "      <td>Sp กันครับสาวๆ</td>\n",
       "      <td>0</td>\n",
       "      <td>0</td>\n",
       "    </tr>\n",
       "    <tr>\n",
       "      <th>162171</th>\n",
       "      <td>https://yellotalk.co/yell/68101446</td>\n",
       "      <td>ทำไมไม่มีคาริน่า https://vt.tiktok.com/ZSjjJHree/</td>\n",
       "      <td>1</td>\n",
       "      <td>0</td>\n",
       "    </tr>\n",
       "  </tbody>\n",
       "</table>\n",
       "<p>162172 rows × 4 columns</p>\n",
       "</div>"
      ],
      "text/plain": [
       "                                       url  \\\n",
       "0       https://yellotalk.co/yell/67610885   \n",
       "1       https://yellotalk.co/yell/67610886   \n",
       "2       https://yellotalk.co/yell/67610887   \n",
       "3       https://yellotalk.co/yell/67610889   \n",
       "4       https://yellotalk.co/yell/67610891   \n",
       "...                                    ...   \n",
       "162167  https://yellotalk.co/yell/68101436   \n",
       "162168  https://yellotalk.co/yell/68101437   \n",
       "162169  https://yellotalk.co/yell/68101438   \n",
       "162170  https://yellotalk.co/yell/68101439   \n",
       "162171  https://yellotalk.co/yell/68101446   \n",
       "\n",
       "                                                     data  comment  likes  \n",
       "0                     ที่บอกกระแทกแรก ไม่เห็นจะแรงจริงเลย        1      0  \n",
       "1       ช่วยตอบแบบสอบถามหน่อยค่ะ https://forms.gle/Rxj...        0      0  \n",
       "2              ทุกวันนี้ไม่อยากมีแฟน กลัวทำหน้าที่ไม่ดีพอ        2      0  \n",
       "3                                    ใครก็ได้มาหักอกหน่อย        4      0  \n",
       "4       ช่วยตอบแบบสอบถามหน่อยค่ะ https://forms.gle/Rxj...        1      0  \n",
       "...                                                   ...      ...    ...  \n",
       "162167  มีแฟนอยู่ไกล แต่เราติดสกินชิพกับเพื่อนผู้ชายมา...        1     -1  \n",
       "162168  ลงภาพในเฟสแต่ละทีเหมือนพ่อกับแม่กลัวไม่ได้อวดล...        1      0  \n",
       "162169                     ไม่มีความชัดเจน มีแต่คลุมเคลือ        6      0  \n",
       "162170                                     Sp กันครับสาวๆ        0      0  \n",
       "162171  ทำไมไม่มีคาริน่า https://vt.tiktok.com/ZSjjJHree/        1      0  \n",
       "\n",
       "[162172 rows x 4 columns]"
      ]
     },
     "execution_count": 3,
     "metadata": {},
     "output_type": "execute_result"
    }
   ],
   "source": [
    "df = pd.read_csv('./dataset/clean/yt_clean.csv')\n",
    "df"
   ]
  },
  {
   "cell_type": "code",
   "execution_count": 5,
   "id": "b81728f2-ab3e-4eae-a618-f8d71f56bbcf",
   "metadata": {},
   "outputs": [
    {
     "data": {
      "text/plain": [
       "'ร้านนี้ไม่อร่อย'"
      ]
     },
     "execution_count": 5,
     "metadata": {},
     "output_type": "execute_result"
    }
   ],
   "source": [
    "text = 'ร้านนี้ไม่อร่อย'\n",
    "text"
   ]
  },
  {
   "cell_type": "code",
   "execution_count": 8,
   "id": "b8236525-b054-4cc2-a0b4-596f4fe243cf",
   "metadata": {},
   "outputs": [
    {
     "data": {
      "text/plain": [
       "{'message': 'No API key found in request'}"
      ]
     },
     "execution_count": 8,
     "metadata": {},
     "output_type": "execute_result"
    }
   ],
   "source": [
    "url = \"https://api.aiforthai.in.th/ssense\"\n",
    "\n",
    "params = {'text':text}\n",
    "headers = {\n",
    "    'Apikey': \"\"\n",
    "    }\n",
    "\n",
    "response = requests.get(url, headers=headers, params=params)\n",
    "output = response.json()\n",
    "output"
   ]
  },
  {
   "cell_type": "code",
   "execution_count": null,
   "id": "c4ae0664-2086-49fb-9e35-8996ffd958a9",
   "metadata": {},
   "outputs": [],
   "source": []
  }
 ],
 "metadata": {
  "kernelspec": {
   "display_name": "Python 3 (ipykernel)",
   "language": "python",
   "name": "python3"
  },
  "language_info": {
   "codemirror_mode": {
    "name": "ipython",
    "version": 3
   },
   "file_extension": ".py",
   "mimetype": "text/x-python",
   "name": "python",
   "nbconvert_exporter": "python",
   "pygments_lexer": "ipython3",
   "version": "3.12.4"
  }
 },
 "nbformat": 4,
 "nbformat_minor": 5
}
